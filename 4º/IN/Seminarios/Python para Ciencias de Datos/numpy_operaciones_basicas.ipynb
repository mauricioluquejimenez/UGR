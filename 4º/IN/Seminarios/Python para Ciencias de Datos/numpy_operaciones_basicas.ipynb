{
 "cells": [
  {
   "cell_type": "markdown",
   "metadata": {},
   "source": [
    "# Introducción a Numpy y algunas operaciones básicas"
   ]
  },
  {
   "cell_type": "markdown",
   "metadata": {},
   "source": [
    "<img src=\"https://upload.wikimedia.org/wikipedia/commons/1/1a/NumPy_logo.svg\" width=\"30%\">"
   ]
  },
  {
   "cell_type": "markdown",
   "metadata": {},
   "source": [
    "Numpy es una biblioteca para el lenguaje de programación Python que da soporte para crear matrices multidimensionales, junto con una gran colección de funciones de alto nivel para operar con ellas."
   ]
  },
  {
   "cell_type": "markdown",
   "metadata": {},
   "source": [
    "Su uso es muy sencillo, lo primero es convertir un vector o lista a un array numpy"
   ]
  },
  {
   "cell_type": "code",
   "execution_count": null,
   "metadata": {
    "ExecuteTime": {
     "end_time": "2020-10-09T08:19:59.712619Z",
     "start_time": "2020-10-09T08:19:59.529096Z"
    }
   },
   "outputs": [],
   "source": [
    "import numpy as np"
   ]
  },
  {
   "cell_type": "code",
   "execution_count": null,
   "metadata": {
    "ExecuteTime": {
     "end_time": "2020-10-09T08:19:59.733454Z",
     "start_time": "2020-10-09T08:19:59.715105Z"
    }
   },
   "outputs": [],
   "source": [
    "np.cos([2.4, 4.5])"
   ]
  },
  {
   "cell_type": "markdown",
   "metadata": {},
   "source": [
    "Crear un array 1-d"
   ]
  },
  {
   "cell_type": "code",
   "execution_count": null,
   "metadata": {
    "ExecuteTime": {
     "end_time": "2020-10-09T08:19:59.748512Z",
     "start_time": "2020-10-09T08:19:59.737507Z"
    }
   },
   "outputs": [],
   "source": [
    "V = np.array([1,2,3,4,5], dtype=np.float)\n",
    "V"
   ]
  },
  {
   "cell_type": "code",
   "execution_count": null,
   "metadata": {
    "ExecuteTime": {
     "end_time": "2020-10-09T08:19:59.769391Z",
     "start_time": "2020-10-09T08:19:59.751984Z"
    }
   },
   "outputs": [],
   "source": [
    "[1, 2, 3, 4, 5]"
   ]
  },
  {
   "cell_type": "code",
   "execution_count": null,
   "metadata": {
    "ExecuteTime": {
     "end_time": "2020-10-09T08:19:59.787708Z",
     "start_time": "2020-10-09T08:19:59.771958Z"
    }
   },
   "outputs": [],
   "source": [
    "type(V), type([1, 2, 3])"
   ]
  },
  {
   "cell_type": "markdown",
   "metadata": {},
   "source": [
    "Se puede acceder elemento a elemento igual que a una lista"
   ]
  },
  {
   "cell_type": "code",
   "execution_count": null,
   "metadata": {
    "ExecuteTime": {
     "end_time": "2020-10-09T08:19:59.805138Z",
     "start_time": "2020-10-09T08:19:59.793012Z"
    }
   },
   "outputs": [],
   "source": [
    "V"
   ]
  },
  {
   "cell_type": "code",
   "execution_count": null,
   "metadata": {
    "ExecuteTime": {
     "end_time": "2020-10-09T08:19:59.824945Z",
     "start_time": "2020-10-09T08:19:59.809055Z"
    }
   },
   "outputs": [],
   "source": [
    "# V.append([1,2])\n",
    "V = np.concatenate((V, [1,2]))"
   ]
  },
  {
   "cell_type": "markdown",
   "metadata": {
    "ExecuteTime": {
     "end_time": "2020-10-06T08:21:42.381010Z",
     "start_time": "2020-10-06T08:21:42.366053Z"
    }
   },
   "source": [
    "Incluso a varios valores a la vez"
   ]
  },
  {
   "cell_type": "code",
   "execution_count": null,
   "metadata": {
    "ExecuteTime": {
     "end_time": "2020-10-09T08:19:59.847259Z",
     "start_time": "2020-10-09T08:19:59.830422Z"
    }
   },
   "outputs": [],
   "source": [
    "V"
   ]
  },
  {
   "cell_type": "code",
   "execution_count": null,
   "metadata": {
    "ExecuteTime": {
     "end_time": "2020-10-09T08:19:59.863471Z",
     "start_time": "2020-10-09T08:19:59.851351Z"
    }
   },
   "outputs": [],
   "source": [
    "V[2]"
   ]
  },
  {
   "cell_type": "code",
   "execution_count": null,
   "metadata": {
    "ExecuteTime": {
     "end_time": "2020-10-09T08:19:59.881856Z",
     "start_time": "2020-10-09T08:19:59.866271Z"
    }
   },
   "outputs": [],
   "source": [
    "V[[1, 3, 4]]  # Las listas no lo permiten"
   ]
  },
  {
   "cell_type": "code",
   "execution_count": null,
   "metadata": {
    "ExecuteTime": {
     "end_time": "2020-10-09T08:19:59.899507Z",
     "start_time": "2020-10-09T08:19:59.884375Z"
    }
   },
   "outputs": [],
   "source": [
    "V[1:3] # Igual las listas"
   ]
  },
  {
   "cell_type": "code",
   "execution_count": null,
   "metadata": {
    "ExecuteTime": {
     "end_time": "2020-10-09T08:19:59.915932Z",
     "start_time": "2020-10-09T08:19:59.902481Z"
    }
   },
   "outputs": [],
   "source": [
    "V[2:5]"
   ]
  },
  {
   "cell_type": "markdown",
   "metadata": {},
   "source": [
    "Crear un array 1-d a partir de una lista de Python"
   ]
  },
  {
   "cell_type": "code",
   "execution_count": null,
   "metadata": {
    "ExecuteTime": {
     "end_time": "2020-10-09T08:19:59.934911Z",
     "start_time": "2020-10-09T08:19:59.917864Z"
    }
   },
   "outputs": [],
   "source": [
    "L = [1, 2, 3, 4, 5, 6]\n",
    "\n",
    "V = np.array(L)\n",
    "len(V)"
   ]
  },
  {
   "cell_type": "code",
   "execution_count": null,
   "metadata": {
    "ExecuteTime": {
     "end_time": "2020-10-09T08:19:59.952761Z",
     "start_time": "2020-10-09T08:19:59.937488Z"
    }
   },
   "outputs": [],
   "source": [
    "M1 = [[1,2,3],[4,5,6]]\n",
    "M2 = np.array(M1)\n",
    "M2"
   ]
  },
  {
   "cell_type": "code",
   "execution_count": null,
   "metadata": {
    "ExecuteTime": {
     "end_time": "2020-10-09T08:19:59.966431Z",
     "start_time": "2020-10-09T08:19:59.955464Z"
    }
   },
   "outputs": [],
   "source": [
    "print(len(V), len(M2))"
   ]
  },
  {
   "cell_type": "code",
   "execution_count": null,
   "metadata": {
    "ExecuteTime": {
     "end_time": "2020-10-09T08:19:59.985439Z",
     "start_time": "2020-10-09T08:19:59.968481Z"
    }
   },
   "outputs": [],
   "source": [
    "M2.shape, V.shape"
   ]
  },
  {
   "cell_type": "code",
   "execution_count": null,
   "metadata": {
    "ExecuteTime": {
     "end_time": "2020-10-09T08:20:00.004006Z",
     "start_time": "2020-10-09T08:19:59.988339Z"
    }
   },
   "outputs": [],
   "source": [
    "print(\"Filas: \", M2.shape[0])"
   ]
  },
  {
   "cell_type": "code",
   "execution_count": null,
   "metadata": {
    "ExecuteTime": {
     "end_time": "2020-10-09T08:20:00.024044Z",
     "start_time": "2020-10-09T08:20:00.006105Z"
    }
   },
   "outputs": [],
   "source": [
    "print(\"Columnas: \", M2.shape[1])"
   ]
  },
  {
   "cell_type": "code",
   "execution_count": null,
   "metadata": {
    "ExecuteTime": {
     "end_time": "2020-10-09T08:20:00.048002Z",
     "start_time": "2020-10-09T08:20:00.026347Z"
    }
   },
   "outputs": [],
   "source": [
    "M2.sum()"
   ]
  },
  {
   "cell_type": "code",
   "execution_count": null,
   "metadata": {
    "ExecuteTime": {
     "end_time": "2020-10-09T08:20:00.067189Z",
     "start_time": "2020-10-09T08:20:00.050188Z"
    }
   },
   "outputs": [],
   "source": [
    "M2"
   ]
  },
  {
   "cell_type": "markdown",
   "metadata": {},
   "source": [
    "# Tipos de vector"
   ]
  },
  {
   "cell_type": "markdown",
   "metadata": {},
   "source": [
    "A diferencia de las listas, un vector o matriz Numpy sólo tener valores del mismo tipo."
   ]
  },
  {
   "cell_type": "code",
   "execution_count": null,
   "metadata": {
    "ExecuteTime": {
     "end_time": "2020-10-09T08:20:00.082134Z",
     "start_time": "2020-10-09T08:20:00.069680Z"
    }
   },
   "outputs": [],
   "source": [
    "np.array([1, 2, \"hola\"])"
   ]
  },
  {
   "cell_type": "markdown",
   "metadata": {},
   "source": [
    "Normalmente de tipo numérico"
   ]
  },
  {
   "cell_type": "code",
   "execution_count": null,
   "metadata": {
    "ExecuteTime": {
     "end_time": "2020-10-09T08:20:00.097712Z",
     "start_time": "2020-10-09T08:20:00.084267Z"
    }
   },
   "outputs": [],
   "source": [
    "np.array([1, 2, 3.5])"
   ]
  },
  {
   "cell_type": "markdown",
   "metadata": {},
   "source": [
    "Se puede indicar el tipo al construirlo, con dtype {np.int, np.float32, np.float64})"
   ]
  },
  {
   "cell_type": "code",
   "execution_count": null,
   "metadata": {
    "ExecuteTime": {
     "end_time": "2020-10-09T08:20:00.117574Z",
     "start_time": "2020-10-09T08:20:00.105276Z"
    }
   },
   "outputs": [],
   "source": [
    "A=np.array(L, dtype=np.float32)\n",
    "A"
   ]
  },
  {
   "cell_type": "code",
   "execution_count": null,
   "metadata": {
    "ExecuteTime": {
     "end_time": "2020-10-09T08:20:00.132877Z",
     "start_time": "2020-10-09T08:20:00.121771Z"
    }
   },
   "outputs": [],
   "source": [
    "np.array([1,0, 1], dtype=np.int)"
   ]
  },
  {
   "cell_type": "code",
   "execution_count": null,
   "metadata": {
    "ExecuteTime": {
     "end_time": "2020-10-09T08:20:00.153194Z",
     "start_time": "2020-10-09T08:20:00.135133Z"
    }
   },
   "outputs": [],
   "source": [
    "np.array([1, 0, 6], dtype=np.bool)"
   ]
  },
  {
   "cell_type": "code",
   "execution_count": null,
   "metadata": {
    "ExecuteTime": {
     "end_time": "2020-10-09T08:20:00.170894Z",
     "start_time": "2020-10-09T08:20:00.155701Z"
    }
   },
   "outputs": [],
   "source": [
    "np.array([True, False])"
   ]
  },
  {
   "cell_type": "code",
   "execution_count": null,
   "metadata": {
    "ExecuteTime": {
     "end_time": "2020-10-09T08:20:00.188625Z",
     "start_time": "2020-10-09T08:20:00.173160Z"
    }
   },
   "outputs": [],
   "source": [
    "A.tolist()"
   ]
  },
  {
   "cell_type": "markdown",
   "metadata": {},
   "source": [
    "# Ventaja de vector de tipo numpy"
   ]
  },
  {
   "cell_type": "markdown",
   "metadata": {},
   "source": [
    "La principal ventaja es el tiempo, las operaciones en listas son muy lentas, y Numpy están implementadas eficientemente en C++. "
   ]
  },
  {
   "cell_type": "code",
   "execution_count": null,
   "metadata": {
    "ExecuteTime": {
     "end_time": "2020-10-09T08:20:00.204197Z",
     "start_time": "2020-10-09T08:20:00.190672Z"
    }
   },
   "outputs": [],
   "source": [
    "def norm1(vector):\n",
    "    if len(vector)==0:\n",
    "        return []\n",
    "    \n",
    "    maxv = minv = vector[0]\n",
    "    \n",
    "    for val in vector:\n",
    "        if val > maxv:\n",
    "            maxv = val\n",
    "        elif val < minv:\n",
    "            minv = val\n",
    "    \n",
    "    norm = len(vector)*[None]\n",
    "    \n",
    "    for i, val in enumerate(vector):\n",
    "        norm[i] = (val-minv)/(maxv-minv)\n",
    "        \n",
    "    return norm    "
   ]
  },
  {
   "cell_type": "code",
   "execution_count": null,
   "metadata": {
    "ExecuteTime": {
     "end_time": "2020-10-09T08:20:00.504879Z",
     "start_time": "2020-10-09T08:20:00.206019Z"
    }
   },
   "outputs": [],
   "source": [
    "# Creo un vector aleatorio\n",
    "v = np.random.rand(5_000_000)*10-5\n",
    "v_list = v.tolist()"
   ]
  },
  {
   "cell_type": "code",
   "execution_count": null,
   "metadata": {
    "ExecuteTime": {
     "end_time": "2020-10-09T08:20:00.513007Z",
     "start_time": "2020-10-09T08:20:00.507294Z"
    }
   },
   "outputs": [],
   "source": [
    "v"
   ]
  },
  {
   "cell_type": "code",
   "execution_count": null,
   "metadata": {
    "ExecuteTime": {
     "end_time": "2020-10-09T08:20:07.634878Z",
     "start_time": "2020-10-09T08:20:00.515837Z"
    }
   },
   "outputs": [],
   "source": [
    "%time sal1=norm1(v)"
   ]
  },
  {
   "cell_type": "code",
   "execution_count": null,
   "metadata": {
    "ExecuteTime": {
     "end_time": "2020-10-09T08:20:08.470570Z",
     "start_time": "2020-10-09T08:20:07.637797Z"
    }
   },
   "outputs": [],
   "source": [
    "np.min(sal1)"
   ]
  },
  {
   "cell_type": "markdown",
   "metadata": {},
   "source": [
    "Lo implementamos ahora con numpy"
   ]
  },
  {
   "cell_type": "code",
   "execution_count": null,
   "metadata": {
    "ExecuteTime": {
     "end_time": "2020-10-09T08:20:08.509282Z",
     "start_time": "2020-10-09T08:20:08.477296Z"
    }
   },
   "outputs": [],
   "source": [
    "def norm2(vector):\n",
    "    minv = vector.min()\n",
    "    maxv = vector.max()\n",
    "    return (vector-minv)/(maxv-minv)"
   ]
  },
  {
   "cell_type": "code",
   "execution_count": null,
   "metadata": {
    "ExecuteTime": {
     "end_time": "2020-10-09T08:20:08.548375Z",
     "start_time": "2020-10-09T08:20:08.511636Z"
    }
   },
   "outputs": [],
   "source": [
    "%time sal2=norm2(v)"
   ]
  },
  {
   "cell_type": "code",
   "execution_count": null,
   "metadata": {
    "ExecuteTime": {
     "end_time": "2020-10-09T08:20:09.423500Z",
     "start_time": "2020-10-09T08:20:08.551246Z"
    }
   },
   "outputs": [],
   "source": [
    "assert np.all(sal1 == sal2)"
   ]
  },
  {
   "cell_type": "code",
   "execution_count": null,
   "metadata": {
    "ExecuteTime": {
     "end_time": "2020-10-09T08:20:09.435949Z",
     "start_time": "2020-10-09T08:20:09.427503Z"
    }
   },
   "outputs": [],
   "source": [
    "np.where([True, False], [1, 2], [3, 4])"
   ]
  },
  {
   "cell_type": "markdown",
   "metadata": {},
   "source": [
    "# Operaciones vectoriales"
   ]
  },
  {
   "cell_type": "markdown",
   "metadata": {},
   "source": [
    "Se puede sumar, restar, dividir, ... un vector por un escalar, y hace la operación elemento a elemento."
   ]
  },
  {
   "cell_type": "code",
   "execution_count": null,
   "metadata": {
    "ExecuteTime": {
     "end_time": "2020-10-09T08:20:09.455856Z",
     "start_time": "2020-10-09T08:20:09.439064Z"
    }
   },
   "outputs": [],
   "source": [
    "A/5"
   ]
  },
  {
   "cell_type": "code",
   "execution_count": null,
   "metadata": {
    "ExecuteTime": {
     "end_time": "2020-10-09T08:20:09.471196Z",
     "start_time": "2020-10-09T08:20:09.458077Z"
    }
   },
   "outputs": [],
   "source": [
    "np.array([1.0,2,3,4,5]) / 5"
   ]
  },
  {
   "cell_type": "markdown",
   "metadata": {},
   "source": [
    "También se puede operar con vectores de igual tamaño, y hace la operación elemento a elemento"
   ]
  },
  {
   "cell_type": "code",
   "execution_count": null,
   "metadata": {
    "ExecuteTime": {
     "end_time": "2020-10-09T08:20:09.488266Z",
     "start_time": "2020-10-09T08:20:09.474828Z"
    }
   },
   "outputs": [],
   "source": [
    "L"
   ]
  },
  {
   "cell_type": "code",
   "execution_count": null,
   "metadata": {
    "ExecuteTime": {
     "end_time": "2020-10-09T08:20:09.508066Z",
     "start_time": "2020-10-09T08:20:09.490891Z"
    }
   },
   "outputs": [],
   "source": [
    "M = np.array([2, 3, 4, 5, 6, 7])\n",
    "\n",
    "P = L * M\n",
    "P"
   ]
  },
  {
   "cell_type": "markdown",
   "metadata": {},
   "source": [
    "También posee operaciones que trabajan con todos los elementos de un vector"
   ]
  },
  {
   "cell_type": "code",
   "execution_count": null,
   "metadata": {
    "ExecuteTime": {
     "end_time": "2020-10-09T08:20:09.528528Z",
     "start_time": "2020-10-09T08:20:09.510813Z"
    }
   },
   "outputs": [],
   "source": [
    "P.sum()"
   ]
  },
  {
   "cell_type": "code",
   "execution_count": null,
   "metadata": {
    "ExecuteTime": {
     "end_time": "2020-10-09T08:20:09.550730Z",
     "start_time": "2020-10-09T08:20:09.531265Z"
    }
   },
   "outputs": [],
   "source": [
    "# Desordeno\n",
    "np.random.shuffle(P)"
   ]
  },
  {
   "cell_type": "code",
   "execution_count": null,
   "metadata": {
    "ExecuteTime": {
     "end_time": "2020-10-09T08:20:09.578527Z",
     "start_time": "2020-10-09T08:20:09.553212Z"
    }
   },
   "outputs": [],
   "source": [
    "print(P)"
   ]
  },
  {
   "cell_type": "code",
   "execution_count": null,
   "metadata": {
    "ExecuteTime": {
     "end_time": "2020-10-09T08:20:09.596140Z",
     "start_time": "2020-10-09T08:20:09.581457Z"
    }
   },
   "outputs": [],
   "source": [
    "print(P.min(), P.max())"
   ]
  },
  {
   "cell_type": "code",
   "execution_count": null,
   "metadata": {
    "ExecuteTime": {
     "end_time": "2020-10-09T08:20:09.615782Z",
     "start_time": "2020-10-09T08:20:09.598978Z"
    }
   },
   "outputs": [],
   "source": [
    "print(P.min(), np.argmin(P), P[np.argmin(P)])"
   ]
  },
  {
   "cell_type": "markdown",
   "metadata": {
    "ExecuteTime": {
     "end_time": "2020-10-06T08:17:27.976240Z",
     "start_time": "2020-10-06T08:17:27.965044Z"
    }
   },
   "source": [
    "También posee operaciones con vectores "
   ]
  },
  {
   "cell_type": "markdown",
   "metadata": {},
   "source": [
    "Producto escalar de dos vectores"
   ]
  },
  {
   "cell_type": "code",
   "execution_count": null,
   "metadata": {
    "ExecuteTime": {
     "end_time": "2020-10-09T08:20:09.635129Z",
     "start_time": "2020-10-09T08:20:09.617664Z"
    }
   },
   "outputs": [],
   "source": [
    "np.dot(L, M)"
   ]
  },
  {
   "cell_type": "markdown",
   "metadata": {},
   "source": [
    "# Crear un array 2-d"
   ]
  },
  {
   "cell_type": "code",
   "execution_count": null,
   "metadata": {
    "ExecuteTime": {
     "end_time": "2020-10-09T08:20:09.737818Z",
     "start_time": "2020-10-09T08:20:09.637417Z"
    }
   },
   "outputs": [],
   "source": [
    "A = np.array([[1,2,3],[4,5,6],[7,8,9],[8,7,6]])\n",
    "A"
   ]
  },
  {
   "cell_type": "markdown",
   "metadata": {},
   "source": [
    "shape da el tamaño (filas, columnas)"
   ]
  },
  {
   "cell_type": "code",
   "execution_count": null,
   "metadata": {
    "ExecuteTime": {
     "end_time": "2020-10-09T08:20:09.754189Z",
     "start_time": "2020-10-09T08:20:09.740374Z"
    }
   },
   "outputs": [],
   "source": [
    "A.shape"
   ]
  },
  {
   "cell_type": "code",
   "execution_count": null,
   "metadata": {
    "ExecuteTime": {
     "end_time": "2020-10-09T08:20:09.774372Z",
     "start_time": "2020-10-09T08:20:09.756296Z"
    }
   },
   "outputs": [],
   "source": [
    "A[0,1]"
   ]
  },
  {
   "cell_type": "code",
   "execution_count": null,
   "metadata": {
    "ExecuteTime": {
     "end_time": "2020-10-09T08:20:09.800846Z",
     "start_time": "2020-10-09T08:20:09.777217Z"
    }
   },
   "outputs": [],
   "source": [
    "A[2,1]"
   ]
  },
  {
   "cell_type": "code",
   "execution_count": null,
   "metadata": {
    "ExecuteTime": {
     "end_time": "2020-10-09T08:20:09.818199Z",
     "start_time": "2020-10-09T08:20:09.804478Z"
    }
   },
   "outputs": [],
   "source": [
    "A[[0,1], :]"
   ]
  },
  {
   "cell_type": "markdown",
   "metadata": {},
   "source": [
    "También se puede acceder a una fila o columna concreta"
   ]
  },
  {
   "cell_type": "code",
   "execution_count": null,
   "metadata": {
    "ExecuteTime": {
     "end_time": "2020-10-09T08:20:09.836737Z",
     "start_time": "2020-10-09T08:20:09.821814Z"
    }
   },
   "outputs": [],
   "source": [
    "A[1,:]"
   ]
  },
  {
   "cell_type": "code",
   "execution_count": null,
   "metadata": {
    "ExecuteTime": {
     "end_time": "2020-10-09T08:20:09.856747Z",
     "start_time": "2020-10-09T08:20:09.840688Z"
    }
   },
   "outputs": [],
   "source": [
    "A[:,1]"
   ]
  },
  {
   "cell_type": "markdown",
   "metadata": {
    "ExecuteTime": {
     "end_time": "2020-10-06T08:22:12.973797Z",
     "start_time": "2020-10-06T08:22:12.959720Z"
    }
   },
   "source": [
    "Se puede acceder a un subconjunto"
   ]
  },
  {
   "cell_type": "code",
   "execution_count": null,
   "metadata": {
    "ExecuteTime": {
     "end_time": "2020-10-09T08:20:09.873635Z",
     "start_time": "2020-10-09T08:20:09.860961Z"
    }
   },
   "outputs": [],
   "source": [
    "A[1:,1:]"
   ]
  },
  {
   "cell_type": "code",
   "execution_count": null,
   "metadata": {
    "ExecuteTime": {
     "end_time": "2020-10-09T08:20:09.891849Z",
     "start_time": "2020-10-09T08:20:09.876769Z"
    }
   },
   "outputs": [],
   "source": [
    "A[1:3,1:]"
   ]
  },
  {
   "cell_type": "code",
   "execution_count": null,
   "metadata": {
    "ExecuteTime": {
     "end_time": "2020-10-09T08:20:09.907221Z",
     "start_time": "2020-10-09T08:20:09.894430Z"
    }
   },
   "outputs": [],
   "source": [
    "A[1:,0:2]"
   ]
  },
  {
   "cell_type": "markdown",
   "metadata": {
    "ExecuteTime": {
     "end_time": "2020-10-06T08:24:30.561851Z",
     "start_time": "2020-10-06T08:23:57.385Z"
    }
   },
   "source": [
    "También es fácil obtener los valores que cumplen un criterio"
   ]
  },
  {
   "cell_type": "code",
   "execution_count": null,
   "metadata": {
    "ExecuteTime": {
     "end_time": "2020-10-09T08:20:09.921277Z",
     "start_time": "2020-10-09T08:20:09.910672Z"
    }
   },
   "outputs": [],
   "source": [
    "V = np.array([1, 2, 3, 4, 5, 6])"
   ]
  },
  {
   "cell_type": "code",
   "execution_count": null,
   "metadata": {
    "ExecuteTime": {
     "end_time": "2020-10-09T08:20:09.938639Z",
     "start_time": "2020-10-09T08:20:09.924134Z"
    }
   },
   "outputs": [],
   "source": [
    "V > 3"
   ]
  },
  {
   "cell_type": "code",
   "execution_count": null,
   "metadata": {
    "ExecuteTime": {
     "end_time": "2020-10-09T08:20:09.958851Z",
     "start_time": "2020-10-09T08:20:09.941043Z"
    }
   },
   "outputs": [],
   "source": [
    "V[V > 3]"
   ]
  },
  {
   "cell_type": "code",
   "execution_count": null,
   "metadata": {
    "ExecuteTime": {
     "end_time": "2020-10-09T08:20:09.975910Z",
     "start_time": "2020-10-09T08:20:09.961991Z"
    }
   },
   "outputs": [],
   "source": [
    "Ind = (V % 2 == 0) & (V < 6)\n",
    "print(Ind)\n",
    "V[Ind]"
   ]
  },
  {
   "cell_type": "markdown",
   "metadata": {
    "ExecuteTime": {
     "end_time": "2020-10-06T08:27:34.425796Z",
     "start_time": "2020-10-06T08:25:24.093Z"
    }
   },
   "source": [
    "# Creación"
   ]
  },
  {
   "cell_type": "markdown",
   "metadata": {},
   "source": [
    "Numpy posee muchos métodos de generación aleatoria, normal, ..., muy útiles."
   ]
  },
  {
   "cell_type": "code",
   "execution_count": null,
   "metadata": {
    "ExecuteTime": {
     "end_time": "2020-10-09T08:20:09.993304Z",
     "start_time": "2020-10-09T08:20:09.979041Z"
    }
   },
   "outputs": [],
   "source": [
    "np.random.randint(10)"
   ]
  },
  {
   "cell_type": "code",
   "execution_count": null,
   "metadata": {
    "ExecuteTime": {
     "end_time": "2020-10-09T08:20:10.006841Z",
     "start_time": "2020-10-09T08:20:09.996003Z"
    }
   },
   "outputs": [],
   "source": [
    "np.random.rand(10)"
   ]
  },
  {
   "cell_type": "code",
   "execution_count": null,
   "metadata": {
    "ExecuteTime": {
     "end_time": "2020-10-09T08:20:10.030380Z",
     "start_time": "2020-10-09T08:20:10.009739Z"
    }
   },
   "outputs": [],
   "source": [
    "np.random.randint(-10, 10, 5)"
   ]
  },
  {
   "cell_type": "markdown",
   "metadata": {},
   "source": [
    "También hay otros métodos útiles"
   ]
  },
  {
   "cell_type": "code",
   "execution_count": null,
   "metadata": {
    "ExecuteTime": {
     "end_time": "2020-10-09T08:20:10.052910Z",
     "start_time": "2020-10-09T08:20:10.033729Z"
    }
   },
   "outputs": [],
   "source": [
    "np.zeros(10)"
   ]
  },
  {
   "cell_type": "code",
   "execution_count": null,
   "metadata": {
    "ExecuteTime": {
     "end_time": "2020-10-09T08:20:10.072980Z",
     "start_time": "2020-10-09T08:20:10.055590Z"
    }
   },
   "outputs": [],
   "source": [
    "np.ones(10)"
   ]
  },
  {
   "cell_type": "code",
   "execution_count": null,
   "metadata": {
    "ExecuteTime": {
     "end_time": "2020-10-09T08:20:10.096922Z",
     "start_time": "2020-10-09T08:20:10.076029Z"
    }
   },
   "outputs": [],
   "source": [
    "3*np.ones(10)"
   ]
  },
  {
   "cell_type": "code",
   "execution_count": null,
   "metadata": {
    "ExecuteTime": {
     "end_time": "2020-10-09T08:20:10.127445Z",
     "start_time": "2020-10-09T08:20:10.100737Z"
    }
   },
   "outputs": [],
   "source": [
    "np.arange(10)"
   ]
  },
  {
   "cell_type": "markdown",
   "metadata": {
    "ExecuteTime": {
     "end_time": "2020-10-06T08:36:03.957048Z",
     "start_time": "2020-10-06T08:36:03.931850Z"
    }
   },
   "source": [
    "# Ejercicio Numpy"
   ]
  },
  {
   "cell_type": "markdown",
   "metadata": {},
   "source": [
    "1. Crear una función que calcule la distancia euclídea entre dos vectores."
   ]
  },
  {
   "cell_type": "code",
   "execution_count": 1,
   "metadata": {
    "ExecuteTime": {
     "end_time": "2020-10-09T09:27:51.638373Z",
     "start_time": "2020-10-09T09:27:51.634634Z"
    }
   },
   "outputs": [],
   "source": [
    "def disteuc(vector1, vector2):\n",
    "    dist = None\n",
    "    # Poner aquí el código\n",
    "    return dist"
   ]
  },
  {
   "cell_type": "code",
   "execution_count": null,
   "metadata": {
    "ExecuteTime": {
     "end_time": "2020-10-09T08:20:35.052467Z",
     "start_time": "2020-10-09T08:20:35.037616Z"
    }
   },
   "outputs": [],
   "source": [
    "def test():\n",
    "    assert 5 == disteuc(np.zeros(25), np.ones(25))\n",
    "    assert 0 == disteuc(np.arange(30), np.arange(30))\n",
    "    \n",
    "test()"
   ]
  }
 ],
 "metadata": {
  "@webio": {
   "lastCommId": null,
   "lastKernelId": null
  },
  "jupytext": {
   "formats": "ipynb,md"
  },
  "kernelspec": {
   "display_name": "Python 3",
   "language": "python",
   "name": "python3"
  },
  "language_info": {
   "codemirror_mode": {
    "name": "ipython",
    "version": 3
   },
   "file_extension": ".py",
   "mimetype": "text/x-python",
   "name": "python",
   "nbconvert_exporter": "python",
   "pygments_lexer": "ipython3",
   "version": "3.6.7"
  },
  "toc": {
   "base_numbering": 1,
   "nav_menu": {},
   "number_sections": true,
   "sideBar": true,
   "skip_h1_title": false,
   "title_cell": "Table of Contents",
   "title_sidebar": "Contents",
   "toc_cell": false,
   "toc_position": {},
   "toc_section_display": true,
   "toc_window_display": false
  },
  "varInspector": {
   "cols": {
    "lenName": 16,
    "lenType": 16,
    "lenVar": 40
   },
   "kernels_config": {
    "python": {
     "delete_cmd_postfix": "",
     "delete_cmd_prefix": "del ",
     "library": "var_list.py",
     "varRefreshCmd": "print(var_dic_list())"
    },
    "r": {
     "delete_cmd_postfix": ") ",
     "delete_cmd_prefix": "rm(",
     "library": "var_list.r",
     "varRefreshCmd": "cat(var_dic_list()) "
    }
   },
   "types_to_exclude": [
    "module",
    "function",
    "builtin_function_or_method",
    "instance",
    "_Feature"
   ],
   "window_display": false
  }
 },
 "nbformat": 4,
 "nbformat_minor": 4
}
