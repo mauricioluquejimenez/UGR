{
 "cells": [
  {
   "cell_type": "markdown",
   "id": "167815c8",
   "metadata": {},
   "source": [
    "# Primeros pasos con Scikit-Learn"
   ]
  },
  {
   "cell_type": "markdown",
   "id": "0b2608f2",
   "metadata": {},
   "source": [
    "<img src=\"https://s3.amazonaws.com/com.twilio.prod.twilio-docs/original_images/scikit-learn.png\" width=\"30%\">"
   ]
  },
  {
   "cell_type": "markdown",
   "id": "35fc5c3a",
   "metadata": {},
   "source": [
    "Importando las librerías necesarias"
   ]
  },
  {
   "cell_type": "code",
   "execution_count": null,
   "id": "036e9c91",
   "metadata": {},
   "outputs": [],
   "source": [
    "import pandas as pd"
   ]
  },
  {
   "cell_type": "markdown",
   "id": "a61076f8",
   "metadata": {},
   "source": [
    "## Lectura de Datos"
   ]
  },
  {
   "cell_type": "markdown",
   "id": "285b7fe0",
   "metadata": {},
   "source": [
    "La entrada de datos se hace por medio de Pandas, normalmente de un fichero CSV o Excel."
   ]
  },
  {
   "cell_type": "markdown",
   "id": "dea7020b",
   "metadata": {},
   "source": [
    "Almacenamos en una variables la url desde la que vamos a descragar el dataset"
   ]
  },
  {
   "cell_type": "code",
   "execution_count": null,
   "id": "123cdd0c",
   "metadata": {},
   "outputs": [],
   "source": [
    "url = \"https://raw.githubusercontent.com/vkrit/data-science-class/master/WA_Fn-UseC_-Sales-Win-Loss.csv\"\n"
   ]
  },
  {
   "cell_type": "markdown",
   "id": "5916575a",
   "metadata": {},
   "source": [
    "Leemos el fichero csv con los datos"
   ]
  },
  {
   "cell_type": "code",
   "execution_count": null,
   "id": "2a5f4fe1",
   "metadata": {},
   "outputs": [],
   "source": [
    "sales_data= pd.read_csv(url)"
   ]
  },
  {
   "cell_type": "code",
   "execution_count": null,
   "id": "f4a3f850",
   "metadata": {},
   "outputs": [],
   "source": [
    "sales_data.head()"
   ]
  },
  {
   "cell_type": "markdown",
   "id": "fbcef3b5",
   "metadata": {},
   "source": [
    "Exploración de datos"
   ]
  },
  {
   "cell_type": "code",
   "execution_count": null,
   "id": "1ec1c92f",
   "metadata": {},
   "outputs": [],
   "source": [
    "sales_data.head(n=2)"
   ]
  },
  {
   "cell_type": "markdown",
   "id": "37de527d",
   "metadata": {},
   "source": [
    "Podemos ver los últimos registros también"
   ]
  },
  {
   "cell_type": "code",
   "execution_count": null,
   "id": "6bc240fd",
   "metadata": {},
   "outputs": [],
   "source": [
    "sales_data.tail()"
   ]
  },
  {
   "cell_type": "markdown",
   "id": "5f055aac",
   "metadata": {},
   "source": [
    "Tipo de cada característica"
   ]
  },
  {
   "cell_type": "code",
   "execution_count": null,
   "id": "bdb11128",
   "metadata": {},
   "outputs": [],
   "source": [
    "sales_data.dtypes"
   ]
  },
  {
   "cell_type": "code",
   "execution_count": null,
   "id": "2aba59db",
   "metadata": {},
   "outputs": [],
   "source": [
    "sales_data.describe()"
   ]
  },
  {
   "cell_type": "code",
   "execution_count": null,
   "id": "bce5f654",
   "metadata": {},
   "outputs": [],
   "source": [
    "sales_data.shape"
   ]
  },
  {
   "cell_type": "markdown",
   "id": "672676c8",
   "metadata": {},
   "source": [
    "# Pequeña Visualización de los Datos"
   ]
  },
  {
   "cell_type": "markdown",
   "id": "aaced9a2",
   "metadata": {},
   "source": [
    "Vamos a mostrar un poco los datos"
   ]
  },
  {
   "cell_type": "code",
   "execution_count": null,
   "id": "d271e4cc",
   "metadata": {},
   "outputs": [],
   "source": [
    "import seaborn as sns\n",
    "import matplotlib.pyplot as plt"
   ]
  },
  {
   "cell_type": "markdown",
   "id": "efbd0981",
   "metadata": {},
   "source": [
    "Countplot"
   ]
  },
  {
   "cell_type": "code",
   "execution_count": null,
   "id": "34a2ad46",
   "metadata": {},
   "outputs": [],
   "source": [
    "sns.set(style=\"whitegrid\", color_codes=True)"
   ]
  },
  {
   "cell_type": "code",
   "execution_count": null,
   "id": "89a62c85",
   "metadata": {},
   "outputs": [],
   "source": [
    "sns.set(rc={'figure.figsize':(11.7,8.27)})"
   ]
  },
  {
   "cell_type": "code",
   "execution_count": null,
   "id": "7512fcb9-6ec0-4f85-afe7-4fbcb99965e9",
   "metadata": {},
   "outputs": [],
   "source": [
    "sales_data.columns"
   ]
  },
  {
   "cell_type": "code",
   "execution_count": null,
   "id": "788de77d",
   "metadata": {},
   "outputs": [],
   "source": [
    "sns.relplot(x='Route To Market',data=sales_data,y='Opportunity Result', kind='line')"
   ]
  },
  {
   "cell_type": "code",
   "execution_count": null,
   "id": "ceeffbe4",
   "metadata": {},
   "outputs": [],
   "source": [
    "sns.despine(offset=10, trim=True)"
   ]
  },
  {
   "cell_type": "code",
   "execution_count": null,
   "id": "89d45f70",
   "metadata": {},
   "outputs": [],
   "source": [
    "plt.show()"
   ]
  },
  {
   "cell_type": "code",
   "execution_count": null,
   "id": "7f570c39",
   "metadata": {},
   "outputs": [],
   "source": [
    "# sns.set(rc={'figure.figsize':(16.7,13.27)})\n",
    "sns.boxplot(x='Region', y=\"Opportunity Amount USD\", data=sales_data, hue=\"Opportunity Result\")\n",
    "plt.show()"
   ]
  },
  {
   "cell_type": "code",
   "execution_count": null,
   "id": "e02d4ba6",
   "metadata": {},
   "outputs": [],
   "source": [
    "sns.boxplot(data=sales_data, x=\"Region\", y=\"Elapsed Days In Sales Stage\")"
   ]
  },
  {
   "cell_type": "markdown",
   "id": "53b9d6ec",
   "metadata": {},
   "source": [
    "# Preprocesamiento de Datos"
   ]
  },
  {
   "cell_type": "markdown",
   "id": "840efe8d",
   "metadata": {},
   "source": [
    "Tras estudiar un poco los datos vamos a usar Scikit-Learn para predecir \"Opportunity Result\""
   ]
  },
  {
   "cell_type": "markdown",
   "id": "88b44d35",
   "metadata": {},
   "source": [
    "Lo primero es tener en cuenta que los algoritmos de ML no trabajan con strings, por lo que es necesario codificar dichas cadenas como valores numéricos, por ejemplo."
   ]
  },
  {
   "cell_type": "markdown",
   "id": "df23121e",
   "metadata": {},
   "source": [
    "Para ello, se usa la clase LabelEncoder(). Ponemos un ejemplo."
   ]
  },
  {
   "cell_type": "code",
   "execution_count": null,
   "id": "9220b08e",
   "metadata": {},
   "outputs": [],
   "source": [
    "from sklearn import preprocessing\n",
    "# create the Labelencoder object\n",
    "le = preprocessing.LabelEncoder()\n",
    "#convert the categorical columns into numeric\n",
    "encoded_value = le.fit_transform([\"paris\", \"paris\", \"tokyo\", \"amsterdam\", \"tokyo\"])\n",
    "print(encoded_value)"
   ]
  },
  {
   "cell_type": "code",
   "execution_count": null,
   "id": "b47f910c",
   "metadata": {},
   "outputs": [],
   "source": [
    "# La operación es reversible\n",
    "le.inverse_transform(encoded_value)"
   ]
  },
  {
   "cell_type": "code",
   "execution_count": null,
   "id": "98653374",
   "metadata": {},
   "outputs": [],
   "source": [
    "le.inverse_transform([1])"
   ]
  },
  {
   "cell_type": "markdown",
   "id": "804ff651",
   "metadata": {},
   "source": [
    "Tenemos bastante atributos de tipo cadena que pueden ser etiquetadas (el conjunto de valores es limitado)"
   ]
  },
  {
   "cell_type": "code",
   "execution_count": null,
   "id": "29fcfefc",
   "metadata": {},
   "outputs": [],
   "source": [
    "print(\"Supplies Subgroup' : \",sales_data['Supplies Subgroup'].unique())\n",
    "print(\"Region : \",sales_data['Region'].unique())\n",
    "print(\"Route To Market : \",sales_data['Route To Market'].unique())\n",
    "print(\"Opportunity Result : \",sales_data['Opportunity Result'].unique())\n",
    "print(\"Competitor Type : \",sales_data['Competitor Type'].unique())\n",
    "print(\"Supplies Group : \",sales_data['Supplies Group'].unique())"
   ]
  },
  {
   "cell_type": "markdown",
   "id": "cb9f73fb",
   "metadata": {},
   "source": [
    "Ahora vamos a transformar los datos mediante etiquetas, discretizando los datos."
   ]
  },
  {
   "cell_type": "code",
   "execution_count": null,
   "id": "88acc2b0",
   "metadata": {},
   "outputs": [],
   "source": [
    "# create the Labelencoder object\n",
    "le = preprocessing.LabelEncoder()\n",
    "#convert the categorical columns into numeric\n",
    "for col in ['Region', 'Route To Market']:\n",
    "    sales_data[col] = le.fit_transform(sales_data[col])\n",
    "    \n",
    "sales_data['Supplies Subgroup'] = le.fit_transform(sales_data['Supplies Subgroup'])\n",
    "# sales_data['Region'] = le.fit_transform(sales_data['Region'])\n",
    "# sales_data['Route To Market'] = le.fit_transform(sales_data['Route To Market'])\n",
    "sales_data['Opportunity Result'] = le.fit_transform(sales_data['Opportunity Result'])\n",
    "sales_data['Competitor Type'] = le.fit_transform(sales_data['Competitor Type'])\n",
    "sales_data['Supplies Group'] = le.fit_transform(sales_data['Supplies Group'])\n",
    "#display the initial records\n",
    "sales_data.head()"
   ]
  },
  {
   "cell_type": "code",
   "execution_count": null,
   "id": "0e1602f8",
   "metadata": {},
   "outputs": [],
   "source": [
    "sales_data.describe()"
   ]
  },
  {
   "cell_type": "markdown",
   "id": "ab3e84f5",
   "metadata": {},
   "source": [
    "# Elegir los atributos de interés"
   ]
  },
  {
   "cell_type": "markdown",
   "id": "e00999d8",
   "metadata": {},
   "source": [
    "Primero vamos a elegir el atributo que queremos predecir, y los atributos que usaremos para predecirlo."
   ]
  },
  {
   "cell_type": "markdown",
   "id": "c792de79",
   "metadata": {},
   "source": [
    "- El objetivo es predecir \"Opportunity Result\".\n",
    "- Escogemos todos los atributos menos 'Opportunity Number'(y el objetivo, evidentemente siempre se quita)."
   ]
  },
  {
   "cell_type": "code",
   "execution_count": null,
   "id": "47ad5c9b",
   "metadata": {},
   "outputs": [],
   "source": [
    "# select columns other than 'Opportunity Number','Opportunity Result'\n",
    "# dropping the 'Opportunity Number'and 'Opportunity Result' columns\n",
    "cols = [col for col in sales_data.columns if col not in ['Opportunity Number','Opportunity Result']]\n",
    "data = sales_data[cols]\n",
    "#assigning the Opportunity Result column as target\n",
    "target = sales_data['Opportunity Result']\n",
    "data.head(n=2)"
   ]
  },
  {
   "cell_type": "code",
   "execution_count": null,
   "id": "216ffcae",
   "metadata": {},
   "outputs": [],
   "source": [
    "target"
   ]
  },
  {
   "cell_type": "markdown",
   "id": "61bd9126",
   "metadata": {},
   "source": [
    "# División de datos en conjuntos de entrenamiento y test"
   ]
  },
  {
   "cell_type": "markdown",
   "id": "4d42e84c",
   "metadata": {},
   "source": [
    "Para *evaluar* un algoritmo de ML es necesario dividir el conjunto de datos en dos partes:\n",
    "    \n",
    "- Conjunto de entrenamiento, utilizado para que el método de ML *aprenda*.\n",
    "- Conjunto de test, para evaluar cuánto se equivoca con sus predicciones tras haber aprendido."
   ]
  },
  {
   "cell_type": "markdown",
   "id": "91dd3334",
   "metadata": {},
   "source": [
    "Para hacer la división usamos train_test_split, que divide de forma aleatoria entre conjunto de entrenamiento y test."
   ]
  },
  {
   "cell_type": "code",
   "execution_count": null,
   "id": "d136b0d2",
   "metadata": {},
   "outputs": [],
   "source": [
    "from sklearn.model_selection import train_test_split"
   ]
  },
  {
   "cell_type": "code",
   "execution_count": null,
   "id": "270d9b1d",
   "metadata": {},
   "outputs": [],
   "source": [
    "help(train_test_split)"
   ]
  },
  {
   "cell_type": "code",
   "execution_count": null,
   "id": "60787ede",
   "metadata": {},
   "outputs": [],
   "source": [
    "data_train, data_test, target_train, target_test = train_test_split(data ,target, train_size = 0.70, random_state = 15)"
   ]
  },
  {
   "cell_type": "code",
   "execution_count": null,
   "id": "8c6d5fb3",
   "metadata": {},
   "outputs": [],
   "source": [
    "data_train.head(1)"
   ]
  },
  {
   "cell_type": "code",
   "execution_count": null,
   "id": "d29bf089",
   "metadata": {},
   "outputs": [],
   "source": [
    "data_train.shape"
   ]
  },
  {
   "cell_type": "code",
   "execution_count": null,
   "id": "628b7d81",
   "metadata": {},
   "outputs": [],
   "source": [
    "data_test.shape"
   ]
  },
  {
   "cell_type": "markdown",
   "id": "999706e4",
   "metadata": {},
   "source": [
    "# Construcción del modelo"
   ]
  },
  {
   "cell_type": "markdown",
   "id": "0f8b1f7b",
   "metadata": {},
   "source": [
    "Hay muchos modelos posibles disponibles desde Scikit-Learn."
   ]
  },
  {
   "cell_type": "markdown",
   "id": "354adf46",
   "metadata": {},
   "source": [
    "<img src=https://scikit-learn.org/stable/_static/ml_map.png>\n"
   ]
  },
  {
   "cell_type": "markdown",
   "id": "5ced70bc",
   "metadata": {},
   "source": [
    "Usaremos dos modelos sencillos:\n",
    "    \n",
    "- Naive-Bayes: Modelo de predicción Bayesiano, basado en estadística.\n",
    "- Linear SVC: Linear Support Vector Classification, muy popular."
   ]
  },
  {
   "cell_type": "markdown",
   "id": "9a75da67",
   "metadata": {},
   "source": [
    "## Primero aplicamos el Bayesiano (Naive-Bayes)"
   ]
  },
  {
   "cell_type": "code",
   "execution_count": null,
   "id": "4968af9e",
   "metadata": {},
   "outputs": [],
   "source": [
    "# import the necessary module\n",
    "from sklearn.naive_bayes import GaussianNB\n",
    "from sklearn.metrics import accuracy_score"
   ]
  },
  {
   "cell_type": "markdown",
   "id": "472313f6",
   "metadata": {},
   "source": [
    "### Creamos el objeto del  modelo"
   ]
  },
  {
   "cell_type": "code",
   "execution_count": null,
   "id": "ef863b9b",
   "metadata": {},
   "outputs": [],
   "source": [
    "#create an object of the type GaussianNB\n",
    "gnb = GaussianNB()"
   ]
  },
  {
   "cell_type": "code",
   "execution_count": null,
   "id": "42f4da16",
   "metadata": {},
   "outputs": [],
   "source": [
    "gnb"
   ]
  },
  {
   "cell_type": "code",
   "execution_count": null,
   "id": "5edfcba7",
   "metadata": {},
   "outputs": [],
   "source": [
    "help(GaussianNB)"
   ]
  },
  {
   "cell_type": "markdown",
   "id": "8468b828",
   "metadata": {},
   "source": [
    "### Ahora aprendemos el modelo pasándole los datos de entrenamiento"
   ]
  },
  {
   "cell_type": "code",
   "execution_count": null,
   "id": "4be52580",
   "metadata": {},
   "outputs": [],
   "source": [
    "model1 = gnb.fit(data_train, target_train)"
   ]
  },
  {
   "cell_type": "markdown",
   "id": "874fe47b",
   "metadata": {},
   "source": [
    "### Medimos el % de acierto con el conjunto de test"
   ]
  },
  {
   "cell_type": "markdown",
   "id": "6c32b9c6",
   "metadata": {},
   "source": [
    "Hacemos las predicciones del conjunto de test"
   ]
  },
  {
   "cell_type": "code",
   "execution_count": null,
   "id": "caea3a81",
   "metadata": {},
   "outputs": [],
   "source": [
    "pred1 = gnb.predict(data_test)"
   ]
  },
  {
   "cell_type": "code",
   "execution_count": null,
   "id": "85361137",
   "metadata": {},
   "outputs": [],
   "source": [
    "pred1"
   ]
  },
  {
   "cell_type": "markdown",
   "id": "9b79cb48",
   "metadata": {},
   "source": [
    "comparando el vector de predicciones con los valores reales, en % de aciertos."
   ]
  },
  {
   "cell_type": "code",
   "execution_count": null,
   "id": "de29cced",
   "metadata": {},
   "outputs": [],
   "source": [
    "print(\"Naive-Bayes accuracy : \",accuracy_score(target_test, pred1, normalize = True))"
   ]
  },
  {
   "cell_type": "markdown",
   "id": "4668f0a2",
   "metadata": {},
   "source": [
    "Hemos obtenido un acierto del 75.9%, nada mal"
   ]
  },
  {
   "cell_type": "markdown",
   "id": "d9432b2e",
   "metadata": {},
   "source": [
    "### Ejemplo con Cross Validation"
   ]
  },
  {
   "cell_type": "code",
   "execution_count": null,
   "id": "b02e41e6",
   "metadata": {},
   "outputs": [],
   "source": [
    "from sklearn.model_selection import cross_val_score\n",
    "import numpy as np"
   ]
  },
  {
   "cell_type": "code",
   "execution_count": null,
   "id": "e20dd7cd",
   "metadata": {},
   "outputs": [],
   "source": [
    "scores = cross_val_score(model1, data, target, cv=5, scoring='accuracy')"
   ]
  },
  {
   "cell_type": "code",
   "execution_count": null,
   "id": "a95049dc",
   "metadata": {},
   "outputs": [],
   "source": [
    "scores"
   ]
  },
  {
   "cell_type": "code",
   "execution_count": null,
   "id": "8c8c4828",
   "metadata": {},
   "outputs": [],
   "source": [
    "np.mean(scores)"
   ]
  },
  {
   "cell_type": "markdown",
   "id": "db8b4ce5",
   "metadata": {},
   "source": [
    "## Ahora aplicamos el Linear SVC"
   ]
  },
  {
   "cell_type": "markdown",
   "id": "c9f5fd10",
   "metadata": {},
   "source": [
    "El comportamiento del Linear SVC se visualiza con el siguiente dibujo. Se verá en teoría."
   ]
  },
  {
   "cell_type": "markdown",
   "id": "a0c37abe",
   "metadata": {},
   "source": [
    "<img src=https://www.dataquest.io/wp-content/uploads/2018/06/SVM-1.png>"
   ]
  },
  {
   "cell_type": "code",
   "execution_count": null,
   "id": "11ec246c",
   "metadata": {},
   "outputs": [],
   "source": [
    "#import the necessary modules\n",
    "from sklearn.svm import LinearSVC\n",
    "from sklearn.metrics import accuracy_score"
   ]
  },
  {
   "cell_type": "markdown",
   "id": "c4a2087e",
   "metadata": {},
   "source": [
    "Como se ve, todos los algoritmos se igual de la misma forma, el Interfaz es muy sencillo."
   ]
  },
  {
   "cell_type": "markdown",
   "id": "11dbb5b8",
   "metadata": {},
   "source": [
    "### Creamos el modelo (con un número de iteraciones)"
   ]
  },
  {
   "cell_type": "code",
   "execution_count": null,
   "id": "6b002dc6",
   "metadata": {},
   "outputs": [],
   "source": [
    "#create an object of type LinearSVC\n",
    "# Requiere parámetros, como el número de iteraciones\n",
    "svc_model = LinearSVC(random_state=10,max_iter=3000)"
   ]
  },
  {
   "cell_type": "markdown",
   "id": "98e77021",
   "metadata": {},
   "source": [
    "### Ahora aprendemos el modelo pasándole los datos de entrenamiento"
   ]
  },
  {
   "cell_type": "markdown",
   "id": "40df3659",
   "metadata": {},
   "source": [
    "Este modelo lleva mucho más tiempo"
   ]
  },
  {
   "cell_type": "code",
   "execution_count": null,
   "id": "ae7771b4",
   "metadata": {},
   "outputs": [],
   "source": [
    "svc_model.fit(data_train, target_train)"
   ]
  },
  {
   "cell_type": "markdown",
   "id": "14a9981f",
   "metadata": {},
   "source": [
    "### Medimos el % de acierto con el conjunto de test"
   ]
  },
  {
   "cell_type": "code",
   "execution_count": null,
   "id": "00f9b4af",
   "metadata": {},
   "outputs": [],
   "source": [
    "pred2 = svc_model.predict(data_test)\n",
    "print(\"LinearSVC accuracy : \",accuracy_score(target_test, pred2, normalize = True))"
   ]
  },
  {
   "cell_type": "markdown",
   "id": "3e946428",
   "metadata": {},
   "source": [
    "# Matriz de confusión"
   ]
  },
  {
   "cell_type": "markdown",
   "id": "4297303e",
   "metadata": {},
   "source": [
    "Hasta ahora hemos visto sólo el % de aciertos, pero nos puede interesar identificar los falsos positivos, y los falsos negativos."
   ]
  },
  {
   "cell_type": "code",
   "execution_count": null,
   "id": "7f422bac",
   "metadata": {},
   "outputs": [],
   "source": [
    "from sklearn.metrics import confusion_matrix"
   ]
  },
  {
   "cell_type": "code",
   "execution_count": null,
   "id": "64082527",
   "metadata": {},
   "outputs": [],
   "source": [
    "m = confusion_matrix(target_test, pred1)\n",
    "m"
   ]
  },
  {
   "cell_type": "code",
   "execution_count": null,
   "id": "743e75c9",
   "metadata": {},
   "outputs": [],
   "source": [
    "total = m.sum()\n",
    "total "
   ]
  },
  {
   "cell_type": "code",
   "execution_count": null,
   "id": "2764fdb8",
   "metadata": {},
   "outputs": [],
   "source": [
    "data_test.shape[0]"
   ]
  },
  {
   "cell_type": "code",
   "execution_count": null,
   "id": "d69a55e7",
   "metadata": {},
   "outputs": [],
   "source": [
    "print(\"Verdadero Positivos:\", m[0,0]/total)\n",
    "print(\"Falsos Positivos:\", m[0,1]/total)\n",
    "print(\"Verdadero Negativos:\", m[1,1]/total)\n",
    "print(\"Falsos Negativos:\", m[1,0]/total)\n",
    "ratio = (m[0,0]+m[1,1])/total\n",
    "print(\"Acccuracy:\", ratio)"
   ]
  }
 ],
 "metadata": {
  "jupytext": {
   "formats": "ipynb,md"
  },
  "kernelspec": {
   "display_name": "Python 3 (ipykernel)",
   "language": "python",
   "name": "python3"
  },
  "language_info": {
   "codemirror_mode": {
    "name": "ipython",
    "version": 3
   },
   "file_extension": ".py",
   "mimetype": "text/x-python",
   "name": "python",
   "nbconvert_exporter": "python",
   "pygments_lexer": "ipython3",
   "version": "3.11.3"
  }
 },
 "nbformat": 4,
 "nbformat_minor": 5
}
