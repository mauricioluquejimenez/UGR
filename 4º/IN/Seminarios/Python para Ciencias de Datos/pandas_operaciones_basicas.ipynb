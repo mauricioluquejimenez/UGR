{
 "cells": [
  {
   "cell_type": "markdown",
   "id": "ff848c66",
   "metadata": {},
   "source": [
    "# Pandas Tutorial"
   ]
  },
  {
   "cell_type": "markdown",
   "id": "af04f264",
   "metadata": {},
   "source": [
    "<img src=\"https://upload.wikimedia.org/wikipedia/commons/thumb/e/ed/Pandas_logo.svg/1200px-Pandas_logo.svg.png\" width=\"30%\">"
   ]
  },
  {
   "cell_type": "code",
   "execution_count": 1,
   "id": "44bcd0de",
   "metadata": {},
   "outputs": [],
   "source": [
    "import pandas as pd"
   ]
  },
  {
   "cell_type": "markdown",
   "id": "f465fb5f",
   "metadata": {},
   "source": [
    "## Series y DataFrames\n",
    "\n",
    "Los dos elementos principales de pandas son las `Series` y los `DataFrame`.\n",
    "\n",
    "Una `Series` es básicamente una columna y un `DataFrame` es una tabla multidimensional compuesta de una colección de `Series`.\n",
    "\n",
    "<img src=\"https://storage.googleapis.com/lds-media/images/series-and-dataframe.width-1200.png\" width=600px />\n",
    "\n"
   ]
  },
  {
   "cell_type": "markdown",
   "id": "b9f4e40b",
   "metadata": {},
   "source": [
    "### Creando DataFrames desde cero\n",
    "\n",
    "Se puede crear a partir de un simple `diccionario`.\n",
    "\n",
    "En el ejemplo tenemos un puesto de frutas que vende manzanas y naranjas. Queremos una columna por cada fruta y una fila por cada compra de un cliente.\n"
   ]
  },
  {
   "cell_type": "code",
   "execution_count": 2,
   "id": "62202be3",
   "metadata": {},
   "outputs": [],
   "source": [
    "data = {\n",
    "    'apples': [3, 2, 0, 1],\n",
    "    'oranges': [0, 3, 7, 2],\n",
    "    'propina': ['si', 'no', 'si', 'si']\n",
    "}"
   ]
  },
  {
   "cell_type": "code",
   "execution_count": 3,
   "id": "37e9fa24",
   "metadata": {},
   "outputs": [
    {
     "data": {
      "text/html": [
       "<div>\n",
       "<style scoped>\n",
       "    .dataframe tbody tr th:only-of-type {\n",
       "        vertical-align: middle;\n",
       "    }\n",
       "\n",
       "    .dataframe tbody tr th {\n",
       "        vertical-align: top;\n",
       "    }\n",
       "\n",
       "    .dataframe thead th {\n",
       "        text-align: right;\n",
       "    }\n",
       "</style>\n",
       "<table border=\"1\" class=\"dataframe\">\n",
       "  <thead>\n",
       "    <tr style=\"text-align: right;\">\n",
       "      <th></th>\n",
       "      <th>apples</th>\n",
       "      <th>oranges</th>\n",
       "      <th>propina</th>\n",
       "    </tr>\n",
       "  </thead>\n",
       "  <tbody>\n",
       "    <tr>\n",
       "      <th>0</th>\n",
       "      <td>3</td>\n",
       "      <td>0</td>\n",
       "      <td>si</td>\n",
       "    </tr>\n",
       "    <tr>\n",
       "      <th>1</th>\n",
       "      <td>2</td>\n",
       "      <td>3</td>\n",
       "      <td>no</td>\n",
       "    </tr>\n",
       "    <tr>\n",
       "      <th>2</th>\n",
       "      <td>0</td>\n",
       "      <td>7</td>\n",
       "      <td>si</td>\n",
       "    </tr>\n",
       "    <tr>\n",
       "      <th>3</th>\n",
       "      <td>1</td>\n",
       "      <td>2</td>\n",
       "      <td>si</td>\n",
       "    </tr>\n",
       "  </tbody>\n",
       "</table>\n",
       "</div>"
      ],
      "text/plain": [
       "   apples  oranges propina\n",
       "0       3        0      si\n",
       "1       2        3      no\n",
       "2       0        7      si\n",
       "3       1        2      si"
      ]
     },
     "execution_count": 3,
     "metadata": {},
     "output_type": "execute_result"
    }
   ],
   "source": [
    "purchases = pd.DataFrame(data)\n",
    "\n",
    "purchases"
   ]
  },
  {
   "cell_type": "markdown",
   "id": "d551144c",
   "metadata": {},
   "source": [
    "El **Indice** de este DataFrame se creó automaticamente al iniciarlo, usando los números0-3, pero podemos asignar los que queramos.\n",
    "\n",
    "Los nombres de los clientes serán los índices"
   ]
  },
  {
   "cell_type": "code",
   "execution_count": 4,
   "id": "e92a30e6",
   "metadata": {},
   "outputs": [
    {
     "data": {
      "text/html": [
       "<div>\n",
       "<style scoped>\n",
       "    .dataframe tbody tr th:only-of-type {\n",
       "        vertical-align: middle;\n",
       "    }\n",
       "\n",
       "    .dataframe tbody tr th {\n",
       "        vertical-align: top;\n",
       "    }\n",
       "\n",
       "    .dataframe thead th {\n",
       "        text-align: right;\n",
       "    }\n",
       "</style>\n",
       "<table border=\"1\" class=\"dataframe\">\n",
       "  <thead>\n",
       "    <tr style=\"text-align: right;\">\n",
       "      <th></th>\n",
       "      <th>apples</th>\n",
       "      <th>oranges</th>\n",
       "      <th>propina</th>\n",
       "    </tr>\n",
       "  </thead>\n",
       "  <tbody>\n",
       "    <tr>\n",
       "      <th>June</th>\n",
       "      <td>3</td>\n",
       "      <td>0</td>\n",
       "      <td>si</td>\n",
       "    </tr>\n",
       "    <tr>\n",
       "      <th>Robert</th>\n",
       "      <td>2</td>\n",
       "      <td>3</td>\n",
       "      <td>no</td>\n",
       "    </tr>\n",
       "    <tr>\n",
       "      <th>Lily</th>\n",
       "      <td>0</td>\n",
       "      <td>7</td>\n",
       "      <td>si</td>\n",
       "    </tr>\n",
       "    <tr>\n",
       "      <th>David</th>\n",
       "      <td>1</td>\n",
       "      <td>2</td>\n",
       "      <td>si</td>\n",
       "    </tr>\n",
       "  </tbody>\n",
       "</table>\n",
       "</div>"
      ],
      "text/plain": [
       "        apples  oranges propina\n",
       "June         3        0      si\n",
       "Robert       2        3      no\n",
       "Lily         0        7      si\n",
       "David        1        2      si"
      ]
     },
     "execution_count": 4,
     "metadata": {},
     "output_type": "execute_result"
    }
   ],
   "source": [
    "purchases = pd.DataFrame(data, index=['June', 'Robert', 'Lily', 'David'])\n",
    "\n",
    "purchases"
   ]
  },
  {
   "cell_type": "markdown",
   "id": "1508fac5",
   "metadata": {},
   "source": [
    "Ahora podemos buscar el pedido de un cliente usando su nombre:"
   ]
  },
  {
   "cell_type": "code",
   "execution_count": 5,
   "id": "1678435e",
   "metadata": {},
   "outputs": [
    {
     "data": {
      "text/plain": [
       "apples      3\n",
       "oranges     0\n",
       "propina    si\n",
       "Name: June, dtype: object"
      ]
     },
     "execution_count": 5,
     "metadata": {},
     "output_type": "execute_result"
    }
   ],
   "source": [
    "purchases.loc['June']"
   ]
  },
  {
   "cell_type": "code",
   "execution_count": null,
   "id": "6829d092",
   "metadata": {},
   "outputs": [],
   "source": [
    "purchases.iloc[0]"
   ]
  },
  {
   "cell_type": "markdown",
   "id": "301d48c8",
   "metadata": {},
   "source": [
    "También podemos acceder por columnas"
   ]
  },
  {
   "cell_type": "code",
   "execution_count": null,
   "id": "11af81dc",
   "metadata": {},
   "outputs": [],
   "source": [
    "purchases['oranges']"
   ]
  },
  {
   "cell_type": "markdown",
   "id": "26493849",
   "metadata": {},
   "source": [
    "También se puede acceder como si fuese un atributo (si el nombre es sencillo)."
   ]
  },
  {
   "cell_type": "code",
   "execution_count": null,
   "id": "6af98902",
   "metadata": {},
   "outputs": [],
   "source": [
    "purchases.oranges"
   ]
  },
  {
   "cell_type": "markdown",
   "id": "be74bbb1",
   "metadata": {},
   "source": [
    "Pero el formato usando índices es más flexible."
   ]
  },
  {
   "cell_type": "code",
   "execution_count": null,
   "id": "682f86c4",
   "metadata": {},
   "outputs": [],
   "source": [
    "purchases[['oranges','propina']]"
   ]
  },
  {
   "cell_type": "markdown",
   "id": "038e3901",
   "metadata": {},
   "source": [
    "### Leyendo datos desde un CSV\n"
   ]
  },
  {
   "cell_type": "code",
   "execution_count": null,
   "id": "b31f77d0",
   "metadata": {},
   "outputs": [],
   "source": [
    "df = pd.read_csv('purchases.csv')\n",
    "\n",
    "df.head()"
   ]
  },
  {
   "cell_type": "markdown",
   "id": "8360421a",
   "metadata": {},
   "source": [
    "Al leer podemos elegir qué columna es el `index_col`:"
   ]
  },
  {
   "cell_type": "code",
   "execution_count": null,
   "id": "ff1b2623",
   "metadata": {},
   "outputs": [],
   "source": [
    "df = pd.read_csv('purchases.csv', index_col=0)\n",
    "\n",
    "df"
   ]
  },
  {
   "cell_type": "markdown",
   "id": "4cddca07",
   "metadata": {},
   "source": [
    "## Operaciones principales con DataFrame\n",
    "\n",
    "Vamos a cargar la lista de películas IMDB:"
   ]
  },
  {
   "cell_type": "code",
   "execution_count": null,
   "id": "68b0a133",
   "metadata": {},
   "outputs": [],
   "source": [
    "movies_df = pd.read_csv(\"IMDB-Movie-Data.csv\", index_col=\"Title\")"
   ]
  },
  {
   "cell_type": "markdown",
   "id": "8e8d84f8",
   "metadata": {},
   "source": [
    "### Visualizando tus datos\n",
    "\n",
    "Imprimimos unas pocas filas con `.head()`:"
   ]
  },
  {
   "cell_type": "code",
   "execution_count": null,
   "id": "05b0297a",
   "metadata": {},
   "outputs": [],
   "source": [
    "movies_df.head()"
   ]
  },
  {
   "cell_type": "markdown",
   "id": "624e60f9",
   "metadata": {},
   "source": [
    "`.head()` muesatra las primeras **cinco** filas por defecto, pero se puede especificar otro número `movies_df.head(10)`.\n",
    "\n",
    "Para ver las últimas **filas** usamos `.tail()`."
   ]
  },
  {
   "cell_type": "code",
   "execution_count": null,
   "id": "8f8e740e",
   "metadata": {},
   "outputs": [],
   "source": [
    "movies_df.tail(2)"
   ]
  },
  {
   "cell_type": "markdown",
   "id": "2b3a7562",
   "metadata": {},
   "source": [
    "### Obteniendo información de tus datos\n",
    "\n",
    "`.info()` debería ser uno de tus primeros métodos después de cargar tus datos"
   ]
  },
  {
   "cell_type": "code",
   "execution_count": null,
   "id": "36d8c623",
   "metadata": {},
   "outputs": [],
   "source": [
    "movies_df.info()"
   ]
  },
  {
   "cell_type": "code",
   "execution_count": null,
   "id": "afe6b1cb",
   "metadata": {},
   "outputs": [],
   "source": [
    "movies_df.shape"
   ]
  },
  {
   "cell_type": "markdown",
   "id": "64d0ae8b",
   "metadata": {},
   "source": [
    "### Cambiar los nombres de las columnas\n",
    "\n"
   ]
  },
  {
   "cell_type": "code",
   "execution_count": null,
   "id": "c065c6c5",
   "metadata": {},
   "outputs": [],
   "source": [
    "movies_df.columns"
   ]
  },
  {
   "cell_type": "code",
   "execution_count": null,
   "id": "466f2029",
   "metadata": {},
   "outputs": [],
   "source": [
    "movies_df['Runtime (Minutes)']"
   ]
  },
  {
   "cell_type": "code",
   "execution_count": null,
   "id": "509e0d4b",
   "metadata": {},
   "outputs": [],
   "source": [
    "movies_df.rename(columns={\n",
    "        'Runtime (Minutes)': 'Runtime',\n",
    "        'Revenue (Millions)': 'Revenue_millions'\n",
    "    }, inplace=True)\n",
    "\n",
    "\n",
    "movies_df.columns"
   ]
  },
  {
   "cell_type": "code",
   "execution_count": null,
   "id": "de847846",
   "metadata": {},
   "outputs": [],
   "source": [
    "movies_df.Runtime"
   ]
  },
  {
   "cell_type": "code",
   "execution_count": null,
   "id": "c1b3f1a1",
   "metadata": {},
   "outputs": [],
   "source": [
    "movies_df.head()"
   ]
  },
  {
   "cell_type": "markdown",
   "id": "41ee33fc",
   "metadata": {},
   "source": [
    "Otra opción, queremos todos los nombres de las columnas en minúscula. En lugar de `.rename()`:"
   ]
  },
  {
   "cell_type": "code",
   "execution_count": null,
   "id": "05367233",
   "metadata": {},
   "outputs": [],
   "source": [
    "movies_df.columns = ['rank', 'genre', 'description', 'director', 'actors', 'year', 'runtime',\n",
    "                     'rating', 'votes', 'revenue_millions', 'metascore']\n",
    "\n",
    "\n",
    "movies_df.columns"
   ]
  },
  {
   "cell_type": "markdown",
   "id": "4ce17b8e",
   "metadata": {},
   "source": [
    "But that's too much work. Instead of just renaming each column manually we can do a list comprehension:"
   ]
  },
  {
   "cell_type": "code",
   "execution_count": null,
   "id": "46d186ec",
   "metadata": {},
   "outputs": [],
   "source": [
    "movies_df.columns = [col.lower() for col in movies_df]\n",
    "\n",
    "movies_df.columns"
   ]
  },
  {
   "cell_type": "markdown",
   "id": "88187807",
   "metadata": {},
   "source": [
    "### Comprendiendo tus variables"
   ]
  },
  {
   "cell_type": "markdown",
   "id": "3e36cdc6",
   "metadata": {},
   "source": [
    "Usando `describe()` obtenemos un resumen de la distribuación de todas las variables continuas:"
   ]
  },
  {
   "cell_type": "code",
   "execution_count": null,
   "id": "4010aa72",
   "metadata": {},
   "outputs": [],
   "source": [
    "movies_df.describe()"
   ]
  },
  {
   "cell_type": "markdown",
   "id": "c1558edf",
   "metadata": {},
   "source": [
    "\n",
    "\n",
    "`.describe()` se puede usar también con variables categóricas"
   ]
  },
  {
   "cell_type": "code",
   "execution_count": null,
   "id": "957f0b2d",
   "metadata": {},
   "outputs": [],
   "source": [
    "movies_df['genre'].describe()"
   ]
  },
  {
   "cell_type": "code",
   "execution_count": null,
   "id": "d0f400a9",
   "metadata": {},
   "outputs": [],
   "source": [
    "movies_df['genre'].value_counts().head(10)"
   ]
  },
  {
   "cell_type": "markdown",
   "id": "bca4fce1",
   "metadata": {},
   "source": [
    "#### Correlación entre variables continuas"
   ]
  },
  {
   "cell_type": "markdown",
   "id": "be671c74",
   "metadata": {},
   "source": [
    "Usando el comando `.corr()`:"
   ]
  },
  {
   "cell_type": "code",
   "execution_count": null,
   "id": "9851b8bc",
   "metadata": {},
   "outputs": [],
   "source": [
    "movies_df.corr(numeric_only=True)"
   ]
  },
  {
   "cell_type": "markdown",
   "id": "3a1f404f",
   "metadata": {},
   "source": [
    "### DataFrame: slicing, seleccionar y extraer\n",
    "\n"
   ]
  },
  {
   "cell_type": "markdown",
   "id": "87eeb21d",
   "metadata": {},
   "source": [
    "#### Por columna\n"
   ]
  },
  {
   "cell_type": "code",
   "execution_count": null,
   "id": "5916842f",
   "metadata": {},
   "outputs": [],
   "source": [
    "genre_col = movies_df['genre']\n",
    "\n",
    "type(genre_col)"
   ]
  },
  {
   "cell_type": "code",
   "execution_count": null,
   "id": "4ddd8137",
   "metadata": {},
   "outputs": [],
   "source": [
    "genre_col = movies_df[['genre']]\n",
    "\n",
    "type(genre_col)"
   ]
  },
  {
   "cell_type": "code",
   "execution_count": null,
   "id": "73b36ace",
   "metadata": {},
   "outputs": [],
   "source": [
    "subset = movies_df[['genre', 'rating']]\n",
    "\n",
    "subset.head()"
   ]
  },
  {
   "cell_type": "markdown",
   "id": "be954dc3",
   "metadata": {},
   "source": [
    "#### Por filas"
   ]
  },
  {
   "cell_type": "markdown",
   "id": "217bc4ab",
   "metadata": {},
   "source": [
    "\n",
    "\n",
    "- `.loc` - busca por nombre\n",
    "- `.iloc`- busca por índice\n",
    "\n"
   ]
  },
  {
   "cell_type": "code",
   "execution_count": null,
   "id": "1fbb030b",
   "metadata": {},
   "outputs": [],
   "source": [
    "prom = movies_df.loc[\"Guardians of the Galaxy\"]\n",
    "\n",
    "prom"
   ]
  },
  {
   "cell_type": "code",
   "execution_count": null,
   "id": "1bf34ba0",
   "metadata": {},
   "outputs": [],
   "source": [
    "prom = movies_df.iloc[0]\n",
    "prom"
   ]
  },
  {
   "cell_type": "code",
   "execution_count": null,
   "id": "0960ecd2",
   "metadata": {},
   "outputs": [],
   "source": [
    "movie_subset = movies_df.loc['Prometheus':'Sing']\n",
    "\n",
    "movie_subset = movies_df.iloc[1:4]\n",
    "\n",
    "movie_subset"
   ]
  },
  {
   "cell_type": "markdown",
   "id": "b4f4aaac",
   "metadata": {},
   "source": [
    "\n",
    "\n",
    "#### Selección condicional\n"
   ]
  },
  {
   "cell_type": "code",
   "execution_count": null,
   "id": "56e54148",
   "metadata": {},
   "outputs": [],
   "source": [
    "condition = (movies_df.director == \"Ridley Scott\")\n",
    "\n",
    "condition.head()"
   ]
  },
  {
   "cell_type": "code",
   "execution_count": null,
   "id": "5cd94f0f",
   "metadata": {},
   "outputs": [],
   "source": [
    "movies_df[condition]"
   ]
  },
  {
   "cell_type": "code",
   "execution_count": null,
   "id": "7e1c4353",
   "metadata": {},
   "outputs": [],
   "source": [
    "movies_df[movies_df.index == 'Alien']"
   ]
  },
  {
   "cell_type": "code",
   "execution_count": null,
   "id": "d88ab39d",
   "metadata": {},
   "outputs": [],
   "source": [
    "movies_df[movies_df['director'] == \"Ridley Scott\"].head()"
   ]
  },
  {
   "cell_type": "code",
   "execution_count": null,
   "id": "8161e53d",
   "metadata": {},
   "outputs": [],
   "source": [
    "movies_df[movies_df['rating'] < 4].sort_values('rating', ascending=True)"
   ]
  },
  {
   "cell_type": "code",
   "execution_count": null,
   "id": "d56ba25e",
   "metadata": {},
   "outputs": [],
   "source": [
    "help(movies_df.sort_values)"
   ]
  },
  {
   "cell_type": "code",
   "execution_count": null,
   "id": "37a58b38",
   "metadata": {},
   "outputs": [],
   "source": [
    "movies_df.rating"
   ]
  },
  {
   "cell_type": "markdown",
   "id": "8e5e5bcd",
   "metadata": {},
   "source": [
    "# Ejercicio"
   ]
  },
  {
   "cell_type": "markdown",
   "id": "8b6ad8e3",
   "metadata": {},
   "source": [
    "Mostrar los directores que han dirigido una película de Sci-Fi con nota superior a un 8."
   ]
  }
 ],
 "metadata": {
  "jupytext": {
   "formats": "ipynb,md"
  },
  "kernelspec": {
   "display_name": "base",
   "language": "python",
   "name": "python3"
  },
  "language_info": {
   "codemirror_mode": {
    "name": "ipython",
    "version": 3
   },
   "file_extension": ".py",
   "mimetype": "text/x-python",
   "name": "python",
   "nbconvert_exporter": "python",
   "pygments_lexer": "ipython3",
   "version": "3.12.8"
  }
 },
 "nbformat": 4,
 "nbformat_minor": 5
}
